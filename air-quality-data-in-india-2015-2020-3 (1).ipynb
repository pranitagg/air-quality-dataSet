{
 "cells": [
  {
   "cell_type": "code",
   "execution_count": 1,
   "id": "39836f1a",
   "metadata": {
    "_cell_guid": "b1076dfc-b9ad-4769-8c92-a6c4dae69d19",
    "_uuid": "8f2839f25d086af736a60e9eeb907d3b93b6e0e5",
    "execution": {
     "iopub.execute_input": "2023-07-27T10:48:10.584836Z",
     "iopub.status.busy": "2023-07-27T10:48:10.584232Z",
     "iopub.status.idle": "2023-07-27T10:48:11.924918Z",
     "shell.execute_reply": "2023-07-27T10:48:11.923851Z"
    },
    "papermill": {
     "duration": 1.354236,
     "end_time": "2023-07-27T10:48:11.927485",
     "exception": false,
     "start_time": "2023-07-27T10:48:10.573249",
     "status": "completed"
    },
    "tags": []
   },
   "outputs": [
    {
     "name": "stderr",
     "output_type": "stream",
     "text": [
      "/opt/conda/lib/python3.10/site-packages/scipy/__init__.py:146: UserWarning: A NumPy version >=1.16.5 and <1.23.0 is required for this version of SciPy (detected version 1.23.5\n",
      "  warnings.warn(f\"A NumPy version >={np_minversion} and <{np_maxversion}\"\n"
     ]
    }
   ],
   "source": [
    "# This Python 3 environment comes with many helpful analytics libraries installed\n",
    "# It is defined by the kaggle/python Docker image: https://github.com/kaggle/docker-python\n",
    "# For example, here's several helpful packages to load\n",
    "\n",
    "import numpy as np # linear algebra\n",
    "import pandas as pd # data processing, CSV file I/O (e.g. pd.read_csv)\n",
    "import matplotlib.pyplot as plt\n",
    "import seaborn as sns\n"
   ]
  },
  {
   "cell_type": "markdown",
   "id": "e38f095c",
   "metadata": {
    "papermill": {
     "duration": 0.008673,
     "end_time": "2023-07-27T10:48:11.945544",
     "exception": false,
     "start_time": "2023-07-27T10:48:11.936871",
     "status": "completed"
    },
    "tags": []
   },
   "source": [
    "**Hi there! In this EDA project we will be analyzing and visualizing the rankings of the Air Quality Data depending upon the worldwide factor. As we know that Air Quality Data play an important role in our life guiding & helping us to choose the carrer paths we desire, which help us in shaping our life in a better way.**"
   ]
  },
  {
   "cell_type": "markdown",
   "id": "f5fd5241",
   "metadata": {
    "papermill": {
     "duration": 0.008272,
     "end_time": "2023-07-27T10:48:11.963027",
     "exception": false,
     "start_time": "2023-07-27T10:48:11.954755",
     "status": "completed"
    },
    "tags": []
   },
   "source": [
    "* /kaggle/input/air-quality-data-in-india/city_day.csv\n",
    "* /kaggle/input/air-quality-data-in-india/city_hour.csv\n",
    "* /kaggle/input/air-quality-data-in-india/station_day.csv\n",
    "* /kaggle/input/air-quality-data-in-india/station_hour.csv\n",
    "* /kaggle/input/air-quality-data-in-india/stations.csv"
   ]
  },
  {
   "cell_type": "markdown",
   "id": "b9213404",
   "metadata": {
    "papermill": {
     "duration": 0.008303,
     "end_time": "2023-07-27T10:48:11.979933",
     "exception": false,
     "start_time": "2023-07-27T10:48:11.971630",
     "status": "completed"
    },
    "tags": []
   },
   "source": [
    "**Now we will use the video games sales dataset and read the data in the form of csv.**"
   ]
  },
  {
   "cell_type": "code",
   "execution_count": 2,
   "id": "fe5dccc9",
   "metadata": {
    "execution": {
     "iopub.execute_input": "2023-07-27T10:48:11.998942Z",
     "iopub.status.busy": "2023-07-27T10:48:11.998515Z",
     "iopub.status.idle": "2023-07-27T10:48:12.188911Z",
     "shell.execute_reply": "2023-07-27T10:48:12.188150Z"
    },
    "papermill": {
     "duration": 0.202639,
     "end_time": "2023-07-27T10:48:12.191246",
     "exception": false,
     "start_time": "2023-07-27T10:48:11.988607",
     "status": "completed"
    },
    "tags": []
   },
   "outputs": [
    {
     "data": {
      "text/html": [
       "<div>\n",
       "<style scoped>\n",
       "    .dataframe tbody tr th:only-of-type {\n",
       "        vertical-align: middle;\n",
       "    }\n",
       "\n",
       "    .dataframe tbody tr th {\n",
       "        vertical-align: top;\n",
       "    }\n",
       "\n",
       "    .dataframe thead th {\n",
       "        text-align: right;\n",
       "    }\n",
       "</style>\n",
       "<table border=\"1\" class=\"dataframe\">\n",
       "  <thead>\n",
       "    <tr style=\"text-align: right;\">\n",
       "      <th></th>\n",
       "      <th>City</th>\n",
       "      <th>PM2.5</th>\n",
       "      <th>PM10</th>\n",
       "      <th>NO</th>\n",
       "      <th>NO2</th>\n",
       "      <th>NOx</th>\n",
       "      <th>NH3</th>\n",
       "      <th>CO</th>\n",
       "      <th>SO2</th>\n",
       "      <th>O3</th>\n",
       "      <th>Benzene</th>\n",
       "      <th>Toluene</th>\n",
       "      <th>Xylene</th>\n",
       "      <th>AQI</th>\n",
       "      <th>AQI_Bucket</th>\n",
       "    </tr>\n",
       "    <tr>\n",
       "      <th>Date</th>\n",
       "      <th></th>\n",
       "      <th></th>\n",
       "      <th></th>\n",
       "      <th></th>\n",
       "      <th></th>\n",
       "      <th></th>\n",
       "      <th></th>\n",
       "      <th></th>\n",
       "      <th></th>\n",
       "      <th></th>\n",
       "      <th></th>\n",
       "      <th></th>\n",
       "      <th></th>\n",
       "      <th></th>\n",
       "      <th></th>\n",
       "    </tr>\n",
       "  </thead>\n",
       "  <tbody>\n",
       "    <tr>\n",
       "      <th>2015-01-01</th>\n",
       "      <td>Ahmedabad</td>\n",
       "      <td>NaN</td>\n",
       "      <td>NaN</td>\n",
       "      <td>0.92</td>\n",
       "      <td>18.22</td>\n",
       "      <td>17.15</td>\n",
       "      <td>NaN</td>\n",
       "      <td>0.92</td>\n",
       "      <td>27.64</td>\n",
       "      <td>133.36</td>\n",
       "      <td>0.00</td>\n",
       "      <td>0.02</td>\n",
       "      <td>0.00</td>\n",
       "      <td>NaN</td>\n",
       "      <td>NaN</td>\n",
       "    </tr>\n",
       "    <tr>\n",
       "      <th>2015-01-02</th>\n",
       "      <td>Ahmedabad</td>\n",
       "      <td>NaN</td>\n",
       "      <td>NaN</td>\n",
       "      <td>0.97</td>\n",
       "      <td>15.69</td>\n",
       "      <td>16.46</td>\n",
       "      <td>NaN</td>\n",
       "      <td>0.97</td>\n",
       "      <td>24.55</td>\n",
       "      <td>34.06</td>\n",
       "      <td>3.68</td>\n",
       "      <td>5.50</td>\n",
       "      <td>3.77</td>\n",
       "      <td>NaN</td>\n",
       "      <td>NaN</td>\n",
       "    </tr>\n",
       "    <tr>\n",
       "      <th>2015-01-03</th>\n",
       "      <td>Ahmedabad</td>\n",
       "      <td>NaN</td>\n",
       "      <td>NaN</td>\n",
       "      <td>17.40</td>\n",
       "      <td>19.30</td>\n",
       "      <td>29.70</td>\n",
       "      <td>NaN</td>\n",
       "      <td>17.40</td>\n",
       "      <td>29.07</td>\n",
       "      <td>30.70</td>\n",
       "      <td>6.80</td>\n",
       "      <td>16.40</td>\n",
       "      <td>2.25</td>\n",
       "      <td>NaN</td>\n",
       "      <td>NaN</td>\n",
       "    </tr>\n",
       "    <tr>\n",
       "      <th>2015-01-04</th>\n",
       "      <td>Ahmedabad</td>\n",
       "      <td>NaN</td>\n",
       "      <td>NaN</td>\n",
       "      <td>1.70</td>\n",
       "      <td>18.48</td>\n",
       "      <td>17.97</td>\n",
       "      <td>NaN</td>\n",
       "      <td>1.70</td>\n",
       "      <td>18.59</td>\n",
       "      <td>36.08</td>\n",
       "      <td>4.43</td>\n",
       "      <td>10.14</td>\n",
       "      <td>1.00</td>\n",
       "      <td>NaN</td>\n",
       "      <td>NaN</td>\n",
       "    </tr>\n",
       "    <tr>\n",
       "      <th>2015-01-05</th>\n",
       "      <td>Ahmedabad</td>\n",
       "      <td>NaN</td>\n",
       "      <td>NaN</td>\n",
       "      <td>22.10</td>\n",
       "      <td>21.42</td>\n",
       "      <td>37.76</td>\n",
       "      <td>NaN</td>\n",
       "      <td>22.10</td>\n",
       "      <td>39.33</td>\n",
       "      <td>39.31</td>\n",
       "      <td>7.01</td>\n",
       "      <td>18.89</td>\n",
       "      <td>2.78</td>\n",
       "      <td>NaN</td>\n",
       "      <td>NaN</td>\n",
       "    </tr>\n",
       "    <tr>\n",
       "      <th>...</th>\n",
       "      <td>...</td>\n",
       "      <td>...</td>\n",
       "      <td>...</td>\n",
       "      <td>...</td>\n",
       "      <td>...</td>\n",
       "      <td>...</td>\n",
       "      <td>...</td>\n",
       "      <td>...</td>\n",
       "      <td>...</td>\n",
       "      <td>...</td>\n",
       "      <td>...</td>\n",
       "      <td>...</td>\n",
       "      <td>...</td>\n",
       "      <td>...</td>\n",
       "      <td>...</td>\n",
       "    </tr>\n",
       "    <tr>\n",
       "      <th>2020-06-27</th>\n",
       "      <td>Visakhapatnam</td>\n",
       "      <td>15.02</td>\n",
       "      <td>50.94</td>\n",
       "      <td>7.68</td>\n",
       "      <td>25.06</td>\n",
       "      <td>19.54</td>\n",
       "      <td>12.47</td>\n",
       "      <td>0.47</td>\n",
       "      <td>8.55</td>\n",
       "      <td>23.30</td>\n",
       "      <td>2.24</td>\n",
       "      <td>12.07</td>\n",
       "      <td>0.73</td>\n",
       "      <td>41.0</td>\n",
       "      <td>Good</td>\n",
       "    </tr>\n",
       "    <tr>\n",
       "      <th>2020-06-28</th>\n",
       "      <td>Visakhapatnam</td>\n",
       "      <td>24.38</td>\n",
       "      <td>74.09</td>\n",
       "      <td>3.42</td>\n",
       "      <td>26.06</td>\n",
       "      <td>16.53</td>\n",
       "      <td>11.99</td>\n",
       "      <td>0.52</td>\n",
       "      <td>12.72</td>\n",
       "      <td>30.14</td>\n",
       "      <td>0.74</td>\n",
       "      <td>2.21</td>\n",
       "      <td>0.38</td>\n",
       "      <td>70.0</td>\n",
       "      <td>Satisfactory</td>\n",
       "    </tr>\n",
       "    <tr>\n",
       "      <th>2020-06-29</th>\n",
       "      <td>Visakhapatnam</td>\n",
       "      <td>22.91</td>\n",
       "      <td>65.73</td>\n",
       "      <td>3.45</td>\n",
       "      <td>29.53</td>\n",
       "      <td>18.33</td>\n",
       "      <td>10.71</td>\n",
       "      <td>0.48</td>\n",
       "      <td>8.42</td>\n",
       "      <td>30.96</td>\n",
       "      <td>0.01</td>\n",
       "      <td>0.01</td>\n",
       "      <td>0.00</td>\n",
       "      <td>68.0</td>\n",
       "      <td>Satisfactory</td>\n",
       "    </tr>\n",
       "    <tr>\n",
       "      <th>2020-06-30</th>\n",
       "      <td>Visakhapatnam</td>\n",
       "      <td>16.64</td>\n",
       "      <td>49.97</td>\n",
       "      <td>4.05</td>\n",
       "      <td>29.26</td>\n",
       "      <td>18.80</td>\n",
       "      <td>10.03</td>\n",
       "      <td>0.52</td>\n",
       "      <td>9.84</td>\n",
       "      <td>28.30</td>\n",
       "      <td>0.00</td>\n",
       "      <td>0.00</td>\n",
       "      <td>0.00</td>\n",
       "      <td>54.0</td>\n",
       "      <td>Satisfactory</td>\n",
       "    </tr>\n",
       "    <tr>\n",
       "      <th>2020-07-01</th>\n",
       "      <td>Visakhapatnam</td>\n",
       "      <td>15.00</td>\n",
       "      <td>66.00</td>\n",
       "      <td>0.40</td>\n",
       "      <td>26.85</td>\n",
       "      <td>14.05</td>\n",
       "      <td>5.20</td>\n",
       "      <td>0.59</td>\n",
       "      <td>2.10</td>\n",
       "      <td>17.05</td>\n",
       "      <td>NaN</td>\n",
       "      <td>NaN</td>\n",
       "      <td>NaN</td>\n",
       "      <td>50.0</td>\n",
       "      <td>Good</td>\n",
       "    </tr>\n",
       "  </tbody>\n",
       "</table>\n",
       "<p>29531 rows × 15 columns</p>\n",
       "</div>"
      ],
      "text/plain": [
       "                     City  PM2.5   PM10     NO    NO2    NOx    NH3     CO  \\\n",
       "Date                                                                         \n",
       "2015-01-01      Ahmedabad    NaN    NaN   0.92  18.22  17.15    NaN   0.92   \n",
       "2015-01-02      Ahmedabad    NaN    NaN   0.97  15.69  16.46    NaN   0.97   \n",
       "2015-01-03      Ahmedabad    NaN    NaN  17.40  19.30  29.70    NaN  17.40   \n",
       "2015-01-04      Ahmedabad    NaN    NaN   1.70  18.48  17.97    NaN   1.70   \n",
       "2015-01-05      Ahmedabad    NaN    NaN  22.10  21.42  37.76    NaN  22.10   \n",
       "...                   ...    ...    ...    ...    ...    ...    ...    ...   \n",
       "2020-06-27  Visakhapatnam  15.02  50.94   7.68  25.06  19.54  12.47   0.47   \n",
       "2020-06-28  Visakhapatnam  24.38  74.09   3.42  26.06  16.53  11.99   0.52   \n",
       "2020-06-29  Visakhapatnam  22.91  65.73   3.45  29.53  18.33  10.71   0.48   \n",
       "2020-06-30  Visakhapatnam  16.64  49.97   4.05  29.26  18.80  10.03   0.52   \n",
       "2020-07-01  Visakhapatnam  15.00  66.00   0.40  26.85  14.05   5.20   0.59   \n",
       "\n",
       "              SO2      O3  Benzene  Toluene  Xylene   AQI    AQI_Bucket  \n",
       "Date                                                                     \n",
       "2015-01-01  27.64  133.36     0.00     0.02    0.00   NaN           NaN  \n",
       "2015-01-02  24.55   34.06     3.68     5.50    3.77   NaN           NaN  \n",
       "2015-01-03  29.07   30.70     6.80    16.40    2.25   NaN           NaN  \n",
       "2015-01-04  18.59   36.08     4.43    10.14    1.00   NaN           NaN  \n",
       "2015-01-05  39.33   39.31     7.01    18.89    2.78   NaN           NaN  \n",
       "...           ...     ...      ...      ...     ...   ...           ...  \n",
       "2020-06-27   8.55   23.30     2.24    12.07    0.73  41.0          Good  \n",
       "2020-06-28  12.72   30.14     0.74     2.21    0.38  70.0  Satisfactory  \n",
       "2020-06-29   8.42   30.96     0.01     0.01    0.00  68.0  Satisfactory  \n",
       "2020-06-30   9.84   28.30     0.00     0.00    0.00  54.0  Satisfactory  \n",
       "2020-07-01   2.10   17.05      NaN      NaN     NaN  50.0          Good  \n",
       "\n",
       "[29531 rows x 15 columns]"
      ]
     },
     "execution_count": 2,
     "metadata": {},
     "output_type": "execute_result"
    }
   ],
   "source": [
    "d1=pd.read_csv('/kaggle/input/air-quality-data-in-india/city_day.csv',index_col='Date')\n",
    "d1"
   ]
  },
  {
   "cell_type": "code",
   "execution_count": 3,
   "id": "cac75988",
   "metadata": {
    "execution": {
     "iopub.execute_input": "2023-07-27T10:48:12.213793Z",
     "iopub.status.busy": "2023-07-27T10:48:12.212754Z",
     "iopub.status.idle": "2023-07-27T10:48:12.251392Z",
     "shell.execute_reply": "2023-07-27T10:48:12.249721Z"
    },
    "papermill": {
     "duration": 0.051726,
     "end_time": "2023-07-27T10:48:12.253835",
     "exception": false,
     "start_time": "2023-07-27T10:48:12.202109",
     "status": "completed"
    },
    "tags": []
   },
   "outputs": [
    {
     "name": "stdout",
     "output_type": "stream",
     "text": [
      "<class 'pandas.core.frame.DataFrame'>\n",
      "Index: 29531 entries, 2015-01-01 to 2020-07-01\n",
      "Data columns (total 15 columns):\n",
      " #   Column      Non-Null Count  Dtype  \n",
      "---  ------      --------------  -----  \n",
      " 0   City        29531 non-null  object \n",
      " 1   PM2.5       24933 non-null  float64\n",
      " 2   PM10        18391 non-null  float64\n",
      " 3   NO          25949 non-null  float64\n",
      " 4   NO2         25946 non-null  float64\n",
      " 5   NOx         25346 non-null  float64\n",
      " 6   NH3         19203 non-null  float64\n",
      " 7   CO          27472 non-null  float64\n",
      " 8   SO2         25677 non-null  float64\n",
      " 9   O3          25509 non-null  float64\n",
      " 10  Benzene     23908 non-null  float64\n",
      " 11  Toluene     21490 non-null  float64\n",
      " 12  Xylene      11422 non-null  float64\n",
      " 13  AQI         24850 non-null  float64\n",
      " 14  AQI_Bucket  24850 non-null  object \n",
      "dtypes: float64(13), object(2)\n",
      "memory usage: 3.6+ MB\n"
     ]
    }
   ],
   "source": [
    "d1.info()  #checking the all the data information of city day"
   ]
  },
  {
   "cell_type": "markdown",
   "id": "e0fbfdf9",
   "metadata": {
    "papermill": {
     "duration": 0.00957,
     "end_time": "2023-07-27T10:48:12.273306",
     "exception": false,
     "start_time": "2023-07-27T10:48:12.263736",
     "status": "completed"
    },
    "tags": []
   },
   "source": [
    "**city day all null value checking**"
   ]
  },
  {
   "cell_type": "code",
   "execution_count": 4,
   "id": "f4e07129",
   "metadata": {
    "execution": {
     "iopub.execute_input": "2023-07-27T10:48:12.293855Z",
     "iopub.status.busy": "2023-07-27T10:48:12.293472Z",
     "iopub.status.idle": "2023-07-27T10:48:12.327642Z",
     "shell.execute_reply": "2023-07-27T10:48:12.326527Z"
    },
    "papermill": {
     "duration": 0.047166,
     "end_time": "2023-07-27T10:48:12.329873",
     "exception": false,
     "start_time": "2023-07-27T10:48:12.282707",
     "status": "completed"
    },
    "tags": []
   },
   "outputs": [
    {
     "data": {
      "text/plain": [
       "<bound method DataFrame.value_counts of              City  PM2.5   PM10     NO    NO2    NOx    NH3     CO    SO2  \\\n",
       "Date                                                                        \n",
       "2015-01-01  False   True   True  False  False  False   True  False  False   \n",
       "2015-01-02  False   True   True  False  False  False   True  False  False   \n",
       "2015-01-03  False   True   True  False  False  False   True  False  False   \n",
       "2015-01-04  False   True   True  False  False  False   True  False  False   \n",
       "2015-01-05  False   True   True  False  False  False   True  False  False   \n",
       "...           ...    ...    ...    ...    ...    ...    ...    ...    ...   \n",
       "2020-06-27  False  False  False  False  False  False  False  False  False   \n",
       "2020-06-28  False  False  False  False  False  False  False  False  False   \n",
       "2020-06-29  False  False  False  False  False  False  False  False  False   \n",
       "2020-06-30  False  False  False  False  False  False  False  False  False   \n",
       "2020-07-01  False  False  False  False  False  False  False  False  False   \n",
       "\n",
       "               O3  Benzene  Toluene  Xylene    AQI  AQI_Bucket  \n",
       "Date                                                            \n",
       "2015-01-01  False    False    False   False   True        True  \n",
       "2015-01-02  False    False    False   False   True        True  \n",
       "2015-01-03  False    False    False   False   True        True  \n",
       "2015-01-04  False    False    False   False   True        True  \n",
       "2015-01-05  False    False    False   False   True        True  \n",
       "...           ...      ...      ...     ...    ...         ...  \n",
       "2020-06-27  False    False    False   False  False       False  \n",
       "2020-06-28  False    False    False   False  False       False  \n",
       "2020-06-29  False    False    False   False  False       False  \n",
       "2020-06-30  False    False    False   False  False       False  \n",
       "2020-07-01  False     True     True    True  False       False  \n",
       "\n",
       "[29531 rows x 15 columns]>"
      ]
     },
     "execution_count": 4,
     "metadata": {},
     "output_type": "execute_result"
    }
   ],
   "source": [
    "d1.isna().value_counts"
   ]
  },
  {
   "cell_type": "markdown",
   "id": "c16fd6ce",
   "metadata": {
    "papermill": {
     "duration": 0.009857,
     "end_time": "2023-07-27T10:48:12.349623",
     "exception": false,
     "start_time": "2023-07-27T10:48:12.339766",
     "status": "completed"
    },
    "tags": []
   },
   "source": [
    "**All the data Skiping null value**"
   ]
  },
  {
   "cell_type": "code",
   "execution_count": 5,
   "id": "503cd28e",
   "metadata": {
    "execution": {
     "iopub.execute_input": "2023-07-27T10:48:12.371158Z",
     "iopub.status.busy": "2023-07-27T10:48:12.370751Z",
     "iopub.status.idle": "2023-07-27T10:48:12.395818Z",
     "shell.execute_reply": "2023-07-27T10:48:12.394984Z"
    },
    "papermill": {
     "duration": 0.038435,
     "end_time": "2023-07-27T10:48:12.398105",
     "exception": false,
     "start_time": "2023-07-27T10:48:12.359670",
     "status": "completed"
    },
    "tags": []
   },
   "outputs": [],
   "source": [
    "d1.dropna(axis=0,inplace=True) "
   ]
  },
  {
   "cell_type": "code",
   "execution_count": 6,
   "id": "0b2c9e94",
   "metadata": {
    "execution": {
     "iopub.execute_input": "2023-07-27T10:48:12.419496Z",
     "iopub.status.busy": "2023-07-27T10:48:12.419114Z",
     "iopub.status.idle": "2023-07-27T10:48:12.446329Z",
     "shell.execute_reply": "2023-07-27T10:48:12.445124Z"
    },
    "papermill": {
     "duration": 0.040692,
     "end_time": "2023-07-27T10:48:12.448751",
     "exception": false,
     "start_time": "2023-07-27T10:48:12.408059",
     "status": "completed"
    },
    "tags": []
   },
   "outputs": [
    {
     "data": {
      "text/plain": [
       "City          AmaravatiAmaravatiAmaravatiAmaravatiAmaravatiA...\n",
       "PM2.5                                                 382437.45\n",
       "PM10                                                  769636.65\n",
       "NO                                                    106106.73\n",
       "NO2                                                   197732.27\n",
       "NOx                                                   202351.69\n",
       "NH3                                                   129316.37\n",
       "CO                                                      6138.37\n",
       "SO2                                                    71803.96\n",
       "O3                                                    225292.28\n",
       "Benzene                                                23075.45\n",
       "Toluene                                                64378.57\n",
       "Xylene                                                 15948.19\n",
       "AQI                                                    876221.0\n",
       "AQI_Bucket    ModerateModerateModerateModerateModerateModera...\n",
       "dtype: object"
      ]
     },
     "execution_count": 6,
     "metadata": {},
     "output_type": "execute_result"
    }
   ],
   "source": [
    "d1.sum()  #sum all columns  "
   ]
  },
  {
   "cell_type": "markdown",
   "id": "86ed8c70",
   "metadata": {
    "papermill": {
     "duration": 0.010257,
     "end_time": "2023-07-27T10:48:12.469203",
     "exception": false,
     "start_time": "2023-07-27T10:48:12.458946",
     "status": "completed"
    },
    "tags": []
   },
   "source": [
    "**Mea,Count,std,Min,Max and % of all the data**"
   ]
  },
  {
   "cell_type": "code",
   "execution_count": 7,
   "id": "7f1f9994",
   "metadata": {
    "execution": {
     "iopub.execute_input": "2023-07-27T10:48:12.490955Z",
     "iopub.status.busy": "2023-07-27T10:48:12.490594Z",
     "iopub.status.idle": "2023-07-27T10:48:12.550294Z",
     "shell.execute_reply": "2023-07-27T10:48:12.549405Z"
    },
    "papermill": {
     "duration": 0.073721,
     "end_time": "2023-07-27T10:48:12.552739",
     "exception": false,
     "start_time": "2023-07-27T10:48:12.479018",
     "status": "completed"
    },
    "tags": []
   },
   "outputs": [
    {
     "data": {
      "text/html": [
       "<div>\n",
       "<style scoped>\n",
       "    .dataframe tbody tr th:only-of-type {\n",
       "        vertical-align: middle;\n",
       "    }\n",
       "\n",
       "    .dataframe tbody tr th {\n",
       "        vertical-align: top;\n",
       "    }\n",
       "\n",
       "    .dataframe thead th {\n",
       "        text-align: right;\n",
       "    }\n",
       "</style>\n",
       "<table border=\"1\" class=\"dataframe\">\n",
       "  <thead>\n",
       "    <tr style=\"text-align: right;\">\n",
       "      <th></th>\n",
       "      <th>PM2.5</th>\n",
       "      <th>PM10</th>\n",
       "      <th>NO</th>\n",
       "      <th>NO2</th>\n",
       "      <th>NOx</th>\n",
       "      <th>NH3</th>\n",
       "      <th>CO</th>\n",
       "      <th>SO2</th>\n",
       "      <th>O3</th>\n",
       "      <th>Benzene</th>\n",
       "      <th>Toluene</th>\n",
       "      <th>Xylene</th>\n",
       "      <th>AQI</th>\n",
       "    </tr>\n",
       "  </thead>\n",
       "  <tbody>\n",
       "    <tr>\n",
       "      <th>count</th>\n",
       "      <td>6236.000000</td>\n",
       "      <td>6236.000000</td>\n",
       "      <td>6236.000000</td>\n",
       "      <td>6236.000000</td>\n",
       "      <td>6236.000000</td>\n",
       "      <td>6236.000000</td>\n",
       "      <td>6236.000000</td>\n",
       "      <td>6236.000000</td>\n",
       "      <td>6236.000000</td>\n",
       "      <td>6236.000000</td>\n",
       "      <td>6236.000000</td>\n",
       "      <td>6236.000000</td>\n",
       "      <td>6236.000000</td>\n",
       "    </tr>\n",
       "    <tr>\n",
       "      <th>mean</th>\n",
       "      <td>61.327365</td>\n",
       "      <td>123.418321</td>\n",
       "      <td>17.015191</td>\n",
       "      <td>31.708190</td>\n",
       "      <td>32.448956</td>\n",
       "      <td>20.737070</td>\n",
       "      <td>0.984344</td>\n",
       "      <td>11.514426</td>\n",
       "      <td>36.127691</td>\n",
       "      <td>3.700361</td>\n",
       "      <td>10.323696</td>\n",
       "      <td>2.557439</td>\n",
       "      <td>140.510103</td>\n",
       "    </tr>\n",
       "    <tr>\n",
       "      <th>std</th>\n",
       "      <td>53.709682</td>\n",
       "      <td>85.791491</td>\n",
       "      <td>20.037836</td>\n",
       "      <td>18.784041</td>\n",
       "      <td>27.388129</td>\n",
       "      <td>16.088215</td>\n",
       "      <td>1.356161</td>\n",
       "      <td>7.166113</td>\n",
       "      <td>19.553695</td>\n",
       "      <td>5.062159</td>\n",
       "      <td>12.287223</td>\n",
       "      <td>4.535060</td>\n",
       "      <td>92.738826</td>\n",
       "    </tr>\n",
       "    <tr>\n",
       "      <th>min</th>\n",
       "      <td>2.000000</td>\n",
       "      <td>7.800000</td>\n",
       "      <td>0.250000</td>\n",
       "      <td>0.170000</td>\n",
       "      <td>0.170000</td>\n",
       "      <td>0.120000</td>\n",
       "      <td>0.000000</td>\n",
       "      <td>0.710000</td>\n",
       "      <td>1.550000</td>\n",
       "      <td>0.000000</td>\n",
       "      <td>0.000000</td>\n",
       "      <td>0.000000</td>\n",
       "      <td>23.000000</td>\n",
       "    </tr>\n",
       "    <tr>\n",
       "      <th>25%</th>\n",
       "      <td>27.927500</td>\n",
       "      <td>66.970000</td>\n",
       "      <td>5.080000</td>\n",
       "      <td>15.977500</td>\n",
       "      <td>14.547500</td>\n",
       "      <td>10.390000</td>\n",
       "      <td>0.490000</td>\n",
       "      <td>6.557500</td>\n",
       "      <td>22.357500</td>\n",
       "      <td>0.910000</td>\n",
       "      <td>2.210000</td>\n",
       "      <td>0.300000</td>\n",
       "      <td>78.000000</td>\n",
       "    </tr>\n",
       "    <tr>\n",
       "      <th>50%</th>\n",
       "      <td>47.490000</td>\n",
       "      <td>103.010000</td>\n",
       "      <td>10.060000</td>\n",
       "      <td>28.900000</td>\n",
       "      <td>24.285000</td>\n",
       "      <td>14.690000</td>\n",
       "      <td>0.730000</td>\n",
       "      <td>9.875000</td>\n",
       "      <td>32.540000</td>\n",
       "      <td>2.435000</td>\n",
       "      <td>6.310000</td>\n",
       "      <td>1.250000</td>\n",
       "      <td>112.000000</td>\n",
       "    </tr>\n",
       "    <tr>\n",
       "      <th>75%</th>\n",
       "      <td>73.442500</td>\n",
       "      <td>150.770000</td>\n",
       "      <td>19.392500</td>\n",
       "      <td>43.632500</td>\n",
       "      <td>39.622500</td>\n",
       "      <td>28.545000</td>\n",
       "      <td>1.060000</td>\n",
       "      <td>14.430000</td>\n",
       "      <td>45.512500</td>\n",
       "      <td>4.620000</td>\n",
       "      <td>13.040000</td>\n",
       "      <td>3.030000</td>\n",
       "      <td>166.000000</td>\n",
       "    </tr>\n",
       "    <tr>\n",
       "      <th>max</th>\n",
       "      <td>639.190000</td>\n",
       "      <td>796.880000</td>\n",
       "      <td>159.220000</td>\n",
       "      <td>140.170000</td>\n",
       "      <td>224.090000</td>\n",
       "      <td>166.700000</td>\n",
       "      <td>16.230000</td>\n",
       "      <td>70.390000</td>\n",
       "      <td>162.330000</td>\n",
       "      <td>64.440000</td>\n",
       "      <td>103.000000</td>\n",
       "      <td>125.180000</td>\n",
       "      <td>677.000000</td>\n",
       "    </tr>\n",
       "  </tbody>\n",
       "</table>\n",
       "</div>"
      ],
      "text/plain": [
       "             PM2.5         PM10           NO          NO2          NOx  \\\n",
       "count  6236.000000  6236.000000  6236.000000  6236.000000  6236.000000   \n",
       "mean     61.327365   123.418321    17.015191    31.708190    32.448956   \n",
       "std      53.709682    85.791491    20.037836    18.784041    27.388129   \n",
       "min       2.000000     7.800000     0.250000     0.170000     0.170000   \n",
       "25%      27.927500    66.970000     5.080000    15.977500    14.547500   \n",
       "50%      47.490000   103.010000    10.060000    28.900000    24.285000   \n",
       "75%      73.442500   150.770000    19.392500    43.632500    39.622500   \n",
       "max     639.190000   796.880000   159.220000   140.170000   224.090000   \n",
       "\n",
       "               NH3           CO          SO2           O3      Benzene  \\\n",
       "count  6236.000000  6236.000000  6236.000000  6236.000000  6236.000000   \n",
       "mean     20.737070     0.984344    11.514426    36.127691     3.700361   \n",
       "std      16.088215     1.356161     7.166113    19.553695     5.062159   \n",
       "min       0.120000     0.000000     0.710000     1.550000     0.000000   \n",
       "25%      10.390000     0.490000     6.557500    22.357500     0.910000   \n",
       "50%      14.690000     0.730000     9.875000    32.540000     2.435000   \n",
       "75%      28.545000     1.060000    14.430000    45.512500     4.620000   \n",
       "max     166.700000    16.230000    70.390000   162.330000    64.440000   \n",
       "\n",
       "           Toluene       Xylene          AQI  \n",
       "count  6236.000000  6236.000000  6236.000000  \n",
       "mean     10.323696     2.557439   140.510103  \n",
       "std      12.287223     4.535060    92.738826  \n",
       "min       0.000000     0.000000    23.000000  \n",
       "25%       2.210000     0.300000    78.000000  \n",
       "50%       6.310000     1.250000   112.000000  \n",
       "75%      13.040000     3.030000   166.000000  \n",
       "max     103.000000   125.180000   677.000000  "
      ]
     },
     "execution_count": 7,
     "metadata": {},
     "output_type": "execute_result"
    }
   ],
   "source": [
    "d1.describe()"
   ]
  },
  {
   "cell_type": "markdown",
   "id": "55ac57fa",
   "metadata": {
    "papermill": {
     "duration": 0.010678,
     "end_time": "2023-07-27T10:48:12.573940",
     "exception": false,
     "start_time": "2023-07-27T10:48:12.563262",
     "status": "completed"
    },
    "tags": []
   },
   "source": [
    "# Value count of city day data of Mumbai"
   ]
  },
  {
   "cell_type": "code",
   "execution_count": 8,
   "id": "be029749",
   "metadata": {
    "execution": {
     "iopub.execute_input": "2023-07-27T10:48:12.597005Z",
     "iopub.status.busy": "2023-07-27T10:48:12.596646Z",
     "iopub.status.idle": "2023-07-27T10:48:12.605860Z",
     "shell.execute_reply": "2023-07-27T10:48:12.604893Z"
    },
    "papermill": {
     "duration": 0.023685,
     "end_time": "2023-07-27T10:48:12.608162",
     "exception": false,
     "start_time": "2023-07-27T10:48:12.584477",
     "status": "completed"
    },
    "tags": []
   },
   "outputs": [
    {
     "data": {
      "text/plain": [
       "<bound method DataFrame.value_counts of Empty DataFrame\n",
       "Columns: [City, PM2.5, PM10, NO, NO2, NOx, NH3, CO, SO2, O3, Benzene, Toluene, Xylene, AQI, AQI_Bucket]\n",
       "Index: []>"
      ]
     },
     "execution_count": 8,
     "metadata": {},
     "output_type": "execute_result"
    }
   ],
   "source": [
    "d1[d1['City']=='Mumbai'].value_counts"
   ]
  },
  {
   "cell_type": "markdown",
   "id": "fd391be1",
   "metadata": {
    "papermill": {
     "duration": 0.010233,
     "end_time": "2023-07-27T10:48:12.629037",
     "exception": false,
     "start_time": "2023-07-27T10:48:12.618804",
     "status": "completed"
    },
    "tags": []
   },
   "source": [
    "# City day data all city names"
   ]
  },
  {
   "cell_type": "code",
   "execution_count": 9,
   "id": "f8dc1db4",
   "metadata": {
    "execution": {
     "iopub.execute_input": "2023-07-27T10:48:12.651697Z",
     "iopub.status.busy": "2023-07-27T10:48:12.651276Z",
     "iopub.status.idle": "2023-07-27T10:48:12.658884Z",
     "shell.execute_reply": "2023-07-27T10:48:12.657838Z"
    },
    "papermill": {
     "duration": 0.021664,
     "end_time": "2023-07-27T10:48:12.661096",
     "exception": false,
     "start_time": "2023-07-27T10:48:12.639432",
     "status": "completed"
    },
    "tags": []
   },
   "outputs": [
    {
     "data": {
      "text/plain": [
       "array(['Amaravati', 'Amritsar', 'Chandigarh', 'Delhi', 'Gurugram',\n",
       "       'Hyderabad', 'Kolkata', 'Patna', 'Visakhapatnam'], dtype=object)"
      ]
     },
     "execution_count": 9,
     "metadata": {},
     "output_type": "execute_result"
    }
   ],
   "source": [
    "d1['City'].unique()"
   ]
  },
  {
   "cell_type": "code",
   "execution_count": 10,
   "id": "79fddc2d",
   "metadata": {
    "execution": {
     "iopub.execute_input": "2023-07-27T10:48:12.683984Z",
     "iopub.status.busy": "2023-07-27T10:48:12.683656Z",
     "iopub.status.idle": "2023-07-27T10:48:12.690351Z",
     "shell.execute_reply": "2023-07-27T10:48:12.689341Z"
    },
    "papermill": {
     "duration": 0.020684,
     "end_time": "2023-07-27T10:48:12.692524",
     "exception": false,
     "start_time": "2023-07-27T10:48:12.671840",
     "status": "completed"
    },
    "tags": []
   },
   "outputs": [
    {
     "data": {
      "text/plain": [
       "9"
      ]
     },
     "execution_count": 10,
     "metadata": {},
     "output_type": "execute_result"
    }
   ],
   "source": [
    "d1['City'].nunique()"
   ]
  },
  {
   "cell_type": "code",
   "execution_count": 11,
   "id": "6380a3ac",
   "metadata": {
    "execution": {
     "iopub.execute_input": "2023-07-27T10:48:12.714693Z",
     "iopub.status.busy": "2023-07-27T10:48:12.714324Z",
     "iopub.status.idle": "2023-07-27T10:48:12.727155Z",
     "shell.execute_reply": "2023-07-27T10:48:12.726414Z"
    },
    "papermill": {
     "duration": 0.02649,
     "end_time": "2023-07-27T10:48:12.729047",
     "exception": false,
     "start_time": "2023-07-27T10:48:12.702557",
     "status": "completed"
    },
    "tags": []
   },
   "outputs": [
    {
     "data": {
      "text/plain": [
       "City             9\n",
       "PM2.5         4769\n",
       "PM10          5399\n",
       "NO            2966\n",
       "NO2           3976\n",
       "NOx           3962\n",
       "NH3           3248\n",
       "CO             423\n",
       "SO2           2169\n",
       "O3            3957\n",
       "Benzene       1203\n",
       "Toluene       2446\n",
       "Xylene        1036\n",
       "AQI            452\n",
       "AQI_Bucket       6\n",
       "dtype: int64"
      ]
     },
     "execution_count": 11,
     "metadata": {},
     "output_type": "execute_result"
    }
   ],
   "source": [
    "d1.nunique()"
   ]
  },
  {
   "cell_type": "code",
   "execution_count": 12,
   "id": "02f852eb",
   "metadata": {
    "execution": {
     "iopub.execute_input": "2023-07-27T10:48:12.752024Z",
     "iopub.status.busy": "2023-07-27T10:48:12.751677Z",
     "iopub.status.idle": "2023-07-27T10:48:12.756114Z",
     "shell.execute_reply": "2023-07-27T10:48:12.755395Z"
    },
    "papermill": {
     "duration": 0.018255,
     "end_time": "2023-07-27T10:48:12.758037",
     "exception": false,
     "start_time": "2023-07-27T10:48:12.739782",
     "status": "completed"
    },
    "tags": []
   },
   "outputs": [],
   "source": [
    "mask =d1['Benzene']==(0.20 and 2.24)"
   ]
  },
  {
   "cell_type": "code",
   "execution_count": 13,
   "id": "155fb538",
   "metadata": {
    "execution": {
     "iopub.execute_input": "2023-07-27T10:48:12.781302Z",
     "iopub.status.busy": "2023-07-27T10:48:12.780961Z",
     "iopub.status.idle": "2023-07-27T10:48:12.810275Z",
     "shell.execute_reply": "2023-07-27T10:48:12.809414Z"
    },
    "papermill": {
     "duration": 0.043269,
     "end_time": "2023-07-27T10:48:12.812265",
     "exception": false,
     "start_time": "2023-07-27T10:48:12.768996",
     "status": "completed"
    },
    "tags": []
   },
   "outputs": [
    {
     "data": {
      "text/html": [
       "<div>\n",
       "<style scoped>\n",
       "    .dataframe tbody tr th:only-of-type {\n",
       "        vertical-align: middle;\n",
       "    }\n",
       "\n",
       "    .dataframe tbody tr th {\n",
       "        vertical-align: top;\n",
       "    }\n",
       "\n",
       "    .dataframe thead th {\n",
       "        text-align: right;\n",
       "    }\n",
       "</style>\n",
       "<table border=\"1\" class=\"dataframe\">\n",
       "  <thead>\n",
       "    <tr style=\"text-align: right;\">\n",
       "      <th></th>\n",
       "      <th>City</th>\n",
       "      <th>PM2.5</th>\n",
       "      <th>PM10</th>\n",
       "      <th>NO</th>\n",
       "      <th>NO2</th>\n",
       "      <th>NOx</th>\n",
       "      <th>NH3</th>\n",
       "      <th>CO</th>\n",
       "      <th>SO2</th>\n",
       "      <th>O3</th>\n",
       "      <th>Benzene</th>\n",
       "      <th>Toluene</th>\n",
       "      <th>Xylene</th>\n",
       "      <th>AQI</th>\n",
       "      <th>AQI_Bucket</th>\n",
       "    </tr>\n",
       "    <tr>\n",
       "      <th>Date</th>\n",
       "      <th></th>\n",
       "      <th></th>\n",
       "      <th></th>\n",
       "      <th></th>\n",
       "      <th></th>\n",
       "      <th></th>\n",
       "      <th></th>\n",
       "      <th></th>\n",
       "      <th></th>\n",
       "      <th></th>\n",
       "      <th></th>\n",
       "      <th></th>\n",
       "      <th></th>\n",
       "      <th></th>\n",
       "      <th></th>\n",
       "    </tr>\n",
       "  </thead>\n",
       "  <tbody>\n",
       "    <tr>\n",
       "      <th>2019-11-24</th>\n",
       "      <td>Amritsar</td>\n",
       "      <td>32.98</td>\n",
       "      <td>88.49</td>\n",
       "      <td>9.50</td>\n",
       "      <td>9.99</td>\n",
       "      <td>19.49</td>\n",
       "      <td>13.01</td>\n",
       "      <td>0.67</td>\n",
       "      <td>10.45</td>\n",
       "      <td>16.72</td>\n",
       "      <td>2.24</td>\n",
       "      <td>3.26</td>\n",
       "      <td>2.00</td>\n",
       "      <td>74.0</td>\n",
       "      <td>Satisfactory</td>\n",
       "    </tr>\n",
       "    <tr>\n",
       "      <th>2018-06-27</th>\n",
       "      <td>Delhi</td>\n",
       "      <td>52.48</td>\n",
       "      <td>111.40</td>\n",
       "      <td>9.03</td>\n",
       "      <td>31.00</td>\n",
       "      <td>25.96</td>\n",
       "      <td>44.57</td>\n",
       "      <td>0.84</td>\n",
       "      <td>10.43</td>\n",
       "      <td>44.04</td>\n",
       "      <td>2.24</td>\n",
       "      <td>22.29</td>\n",
       "      <td>1.31</td>\n",
       "      <td>126.0</td>\n",
       "      <td>Moderate</td>\n",
       "    </tr>\n",
       "    <tr>\n",
       "      <th>2018-09-01</th>\n",
       "      <td>Delhi</td>\n",
       "      <td>45.19</td>\n",
       "      <td>110.35</td>\n",
       "      <td>19.47</td>\n",
       "      <td>28.51</td>\n",
       "      <td>31.54</td>\n",
       "      <td>31.04</td>\n",
       "      <td>1.02</td>\n",
       "      <td>10.53</td>\n",
       "      <td>19.58</td>\n",
       "      <td>2.24</td>\n",
       "      <td>34.30</td>\n",
       "      <td>0.04</td>\n",
       "      <td>132.0</td>\n",
       "      <td>Moderate</td>\n",
       "    </tr>\n",
       "    <tr>\n",
       "      <th>2019-07-10</th>\n",
       "      <td>Delhi</td>\n",
       "      <td>69.21</td>\n",
       "      <td>278.71</td>\n",
       "      <td>13.97</td>\n",
       "      <td>31.36</td>\n",
       "      <td>29.11</td>\n",
       "      <td>33.73</td>\n",
       "      <td>1.04</td>\n",
       "      <td>10.41</td>\n",
       "      <td>28.65</td>\n",
       "      <td>2.24</td>\n",
       "      <td>16.29</td>\n",
       "      <td>1.07</td>\n",
       "      <td>150.0</td>\n",
       "      <td>Moderate</td>\n",
       "    </tr>\n",
       "    <tr>\n",
       "      <th>2019-07-17</th>\n",
       "      <td>Delhi</td>\n",
       "      <td>32.06</td>\n",
       "      <td>67.73</td>\n",
       "      <td>11.08</td>\n",
       "      <td>28.44</td>\n",
       "      <td>26.68</td>\n",
       "      <td>25.91</td>\n",
       "      <td>1.03</td>\n",
       "      <td>8.91</td>\n",
       "      <td>31.48</td>\n",
       "      <td>2.24</td>\n",
       "      <td>22.46</td>\n",
       "      <td>0.11</td>\n",
       "      <td>92.0</td>\n",
       "      <td>Satisfactory</td>\n",
       "    </tr>\n",
       "    <tr>\n",
       "      <th>2019-08-26</th>\n",
       "      <td>Delhi</td>\n",
       "      <td>25.06</td>\n",
       "      <td>68.59</td>\n",
       "      <td>15.89</td>\n",
       "      <td>31.60</td>\n",
       "      <td>31.88</td>\n",
       "      <td>29.89</td>\n",
       "      <td>0.99</td>\n",
       "      <td>8.55</td>\n",
       "      <td>24.07</td>\n",
       "      <td>2.24</td>\n",
       "      <td>23.20</td>\n",
       "      <td>1.03</td>\n",
       "      <td>77.0</td>\n",
       "      <td>Satisfactory</td>\n",
       "    </tr>\n",
       "    <tr>\n",
       "      <th>2019-03-28</th>\n",
       "      <td>Hyderabad</td>\n",
       "      <td>55.20</td>\n",
       "      <td>136.99</td>\n",
       "      <td>3.57</td>\n",
       "      <td>40.49</td>\n",
       "      <td>24.28</td>\n",
       "      <td>15.37</td>\n",
       "      <td>0.74</td>\n",
       "      <td>9.55</td>\n",
       "      <td>36.10</td>\n",
       "      <td>2.24</td>\n",
       "      <td>19.35</td>\n",
       "      <td>2.02</td>\n",
       "      <td>114.0</td>\n",
       "      <td>Moderate</td>\n",
       "    </tr>\n",
       "    <tr>\n",
       "      <th>2020-05-20</th>\n",
       "      <td>Patna</td>\n",
       "      <td>32.71</td>\n",
       "      <td>99.65</td>\n",
       "      <td>56.35</td>\n",
       "      <td>17.76</td>\n",
       "      <td>55.07</td>\n",
       "      <td>8.71</td>\n",
       "      <td>0.51</td>\n",
       "      <td>6.60</td>\n",
       "      <td>37.91</td>\n",
       "      <td>2.24</td>\n",
       "      <td>4.06</td>\n",
       "      <td>1.62</td>\n",
       "      <td>119.0</td>\n",
       "      <td>Moderate</td>\n",
       "    </tr>\n",
       "    <tr>\n",
       "      <th>2017-04-09</th>\n",
       "      <td>Visakhapatnam</td>\n",
       "      <td>30.88</td>\n",
       "      <td>66.79</td>\n",
       "      <td>7.24</td>\n",
       "      <td>17.28</td>\n",
       "      <td>13.92</td>\n",
       "      <td>7.43</td>\n",
       "      <td>0.98</td>\n",
       "      <td>11.21</td>\n",
       "      <td>11.83</td>\n",
       "      <td>2.24</td>\n",
       "      <td>6.72</td>\n",
       "      <td>1.74</td>\n",
       "      <td>94.0</td>\n",
       "      <td>Satisfactory</td>\n",
       "    </tr>\n",
       "    <tr>\n",
       "      <th>2020-06-27</th>\n",
       "      <td>Visakhapatnam</td>\n",
       "      <td>15.02</td>\n",
       "      <td>50.94</td>\n",
       "      <td>7.68</td>\n",
       "      <td>25.06</td>\n",
       "      <td>19.54</td>\n",
       "      <td>12.47</td>\n",
       "      <td>0.47</td>\n",
       "      <td>8.55</td>\n",
       "      <td>23.30</td>\n",
       "      <td>2.24</td>\n",
       "      <td>12.07</td>\n",
       "      <td>0.73</td>\n",
       "      <td>41.0</td>\n",
       "      <td>Good</td>\n",
       "    </tr>\n",
       "  </tbody>\n",
       "</table>\n",
       "</div>"
      ],
      "text/plain": [
       "                     City  PM2.5    PM10     NO    NO2    NOx    NH3    CO  \\\n",
       "Date                                                                         \n",
       "2019-11-24       Amritsar  32.98   88.49   9.50   9.99  19.49  13.01  0.67   \n",
       "2018-06-27          Delhi  52.48  111.40   9.03  31.00  25.96  44.57  0.84   \n",
       "2018-09-01          Delhi  45.19  110.35  19.47  28.51  31.54  31.04  1.02   \n",
       "2019-07-10          Delhi  69.21  278.71  13.97  31.36  29.11  33.73  1.04   \n",
       "2019-07-17          Delhi  32.06   67.73  11.08  28.44  26.68  25.91  1.03   \n",
       "2019-08-26          Delhi  25.06   68.59  15.89  31.60  31.88  29.89  0.99   \n",
       "2019-03-28      Hyderabad  55.20  136.99   3.57  40.49  24.28  15.37  0.74   \n",
       "2020-05-20          Patna  32.71   99.65  56.35  17.76  55.07   8.71  0.51   \n",
       "2017-04-09  Visakhapatnam  30.88   66.79   7.24  17.28  13.92   7.43  0.98   \n",
       "2020-06-27  Visakhapatnam  15.02   50.94   7.68  25.06  19.54  12.47  0.47   \n",
       "\n",
       "              SO2     O3  Benzene  Toluene  Xylene    AQI    AQI_Bucket  \n",
       "Date                                                                     \n",
       "2019-11-24  10.45  16.72     2.24     3.26    2.00   74.0  Satisfactory  \n",
       "2018-06-27  10.43  44.04     2.24    22.29    1.31  126.0      Moderate  \n",
       "2018-09-01  10.53  19.58     2.24    34.30    0.04  132.0      Moderate  \n",
       "2019-07-10  10.41  28.65     2.24    16.29    1.07  150.0      Moderate  \n",
       "2019-07-17   8.91  31.48     2.24    22.46    0.11   92.0  Satisfactory  \n",
       "2019-08-26   8.55  24.07     2.24    23.20    1.03   77.0  Satisfactory  \n",
       "2019-03-28   9.55  36.10     2.24    19.35    2.02  114.0      Moderate  \n",
       "2020-05-20   6.60  37.91     2.24     4.06    1.62  119.0      Moderate  \n",
       "2017-04-09  11.21  11.83     2.24     6.72    1.74   94.0  Satisfactory  \n",
       "2020-06-27   8.55  23.30     2.24    12.07    0.73   41.0          Good  "
      ]
     },
     "execution_count": 13,
     "metadata": {},
     "output_type": "execute_result"
    }
   ],
   "source": [
    "d1[mask]"
   ]
  },
  {
   "cell_type": "code",
   "execution_count": 14,
   "id": "3addd8ac",
   "metadata": {
    "execution": {
     "iopub.execute_input": "2023-07-27T10:48:12.836040Z",
     "iopub.status.busy": "2023-07-27T10:48:12.835731Z",
     "iopub.status.idle": "2023-07-27T10:48:12.855847Z",
     "shell.execute_reply": "2023-07-27T10:48:12.855091Z"
    },
    "papermill": {
     "duration": 0.034728,
     "end_time": "2023-07-27T10:48:12.858133",
     "exception": false,
     "start_time": "2023-07-27T10:48:12.823405",
     "status": "completed"
    },
    "tags": []
   },
   "outputs": [
    {
     "data": {
      "text/plain": [
       "<bound method DataFrame.value_counts of                      City  PM2.5    PM10    NO    NO2    NOx    NH3    CO  \\\n",
       "Date                                                                        \n",
       "2017-11-25      Amaravati  81.40  124.50  1.44  20.50  12.08  10.72  0.12   \n",
       "2017-11-26      Amaravati  78.32  129.06  1.26  26.00  14.85  10.28  0.14   \n",
       "2017-11-27      Amaravati  88.76  135.32  6.60  30.85  21.77  12.91  0.11   \n",
       "2017-11-28      Amaravati  64.18  104.09  2.56  28.07  17.01  11.42  0.09   \n",
       "2017-11-29      Amaravati  72.47  114.84  5.23  23.20  16.59  12.25  0.16   \n",
       "...                   ...    ...     ...   ...    ...    ...    ...   ...   \n",
       "2020-05-21  Visakhapatnam  45.53  150.21  3.50  48.13  27.74  12.68  0.11   \n",
       "2020-05-22  Visakhapatnam  24.80   90.94  4.34  39.51  24.12  18.93  0.11   \n",
       "2020-06-06  Visakhapatnam  21.66   74.97  3.38  38.42  22.56   8.63  0.64   \n",
       "2020-06-08  Visakhapatnam  31.14  125.15  6.55  41.56  27.26   9.71  0.64   \n",
       "2020-06-19  Visakhapatnam  14.41   66.81  6.22  40.06  26.10   7.51  1.07   \n",
       "\n",
       "              SO2      O3  Benzene  Toluene  Xylene    AQI AQI_Bucket  \n",
       "Date                                                                   \n",
       "2017-11-25  15.24  127.09     0.20     6.50    0.06  184.0   Moderate  \n",
       "2017-11-26  26.96  117.44     0.22     7.95    0.08  197.0   Moderate  \n",
       "2017-11-27  33.59  111.81     0.29     7.63    0.12  198.0   Moderate  \n",
       "2017-11-28  19.00  138.18     0.17     5.02    0.07  188.0   Moderate  \n",
       "2017-11-29  10.55  109.74     0.21     4.71    0.08  173.0   Moderate  \n",
       "...           ...     ...      ...      ...     ...    ...        ...  \n",
       "2020-05-21  11.82   33.44     3.03    10.55    1.06  145.0   Moderate  \n",
       "2020-05-22   6.37   30.61     1.70     3.49    0.72  117.0   Moderate  \n",
       "2020-06-06   7.02   28.86     2.57    11.54    1.40  101.0   Moderate  \n",
       "2020-06-08   6.61   36.65     3.47     9.76    1.78  115.0   Moderate  \n",
       "2020-06-19  13.23   27.34     2.55     8.98    1.45  110.0   Moderate  \n",
       "\n",
       "[2521 rows x 15 columns]>"
      ]
     },
     "execution_count": 14,
     "metadata": {},
     "output_type": "execute_result"
    }
   ],
   "source": [
    "d1[d1['AQI_Bucket']=='Moderate'].value_counts"
   ]
  },
  {
   "cell_type": "code",
   "execution_count": 15,
   "id": "cb8fdd53",
   "metadata": {
    "execution": {
     "iopub.execute_input": "2023-07-27T10:48:12.883233Z",
     "iopub.status.busy": "2023-07-27T10:48:12.882850Z",
     "iopub.status.idle": "2023-07-27T10:48:12.895645Z",
     "shell.execute_reply": "2023-07-27T10:48:12.894756Z"
    },
    "papermill": {
     "duration": 0.027805,
     "end_time": "2023-07-27T10:48:12.897621",
     "exception": false,
     "start_time": "2023-07-27T10:48:12.869816",
     "status": "completed"
    },
    "tags": []
   },
   "outputs": [
    {
     "data": {
      "text/plain": [
       "City          0\n",
       "PM2.5         0\n",
       "PM10          0\n",
       "NO            0\n",
       "NO2           0\n",
       "NOx           0\n",
       "NH3           0\n",
       "CO            0\n",
       "SO2           0\n",
       "O3            0\n",
       "Benzene       0\n",
       "Toluene       0\n",
       "Xylene        0\n",
       "AQI           0\n",
       "AQI_Bucket    0\n",
       "dtype: int64"
      ]
     },
     "execution_count": 15,
     "metadata": {},
     "output_type": "execute_result"
    }
   ],
   "source": [
    "d1.isna().sum()"
   ]
  },
  {
   "cell_type": "code",
   "execution_count": 16,
   "id": "34546803",
   "metadata": {
    "execution": {
     "iopub.execute_input": "2023-07-27T10:48:12.922468Z",
     "iopub.status.busy": "2023-07-27T10:48:12.922115Z",
     "iopub.status.idle": "2023-07-27T10:48:12.931929Z",
     "shell.execute_reply": "2023-07-27T10:48:12.931019Z"
    },
    "papermill": {
     "duration": 0.024774,
     "end_time": "2023-07-27T10:48:12.934095",
     "exception": false,
     "start_time": "2023-07-27T10:48:12.909321",
     "status": "completed"
    },
    "tags": []
   },
   "outputs": [],
   "source": [
    "m1=d1.dropna(axis=0,how='any')"
   ]
  },
  {
   "cell_type": "code",
   "execution_count": 17,
   "id": "63d8ec6d",
   "metadata": {
    "execution": {
     "iopub.execute_input": "2023-07-27T10:48:12.959477Z",
     "iopub.status.busy": "2023-07-27T10:48:12.959096Z",
     "iopub.status.idle": "2023-07-27T10:48:12.986742Z",
     "shell.execute_reply": "2023-07-27T10:48:12.985747Z"
    },
    "papermill": {
     "duration": 0.043251,
     "end_time": "2023-07-27T10:48:12.989091",
     "exception": false,
     "start_time": "2023-07-27T10:48:12.945840",
     "status": "completed"
    },
    "tags": []
   },
   "outputs": [
    {
     "data": {
      "text/plain": [
       "City          AmaravatiAmaravatiAmaravatiAmaravatiAmaravatiA...\n",
       "PM2.5                                                 382437.45\n",
       "PM10                                                  769636.65\n",
       "NO                                                    106106.73\n",
       "NO2                                                   197732.27\n",
       "NOx                                                   202351.69\n",
       "NH3                                                   129316.37\n",
       "CO                                                      6138.37\n",
       "SO2                                                    71803.96\n",
       "O3                                                    225292.28\n",
       "Benzene                                                23075.45\n",
       "Toluene                                                64378.57\n",
       "Xylene                                                 15948.19\n",
       "AQI                                                    876221.0\n",
       "AQI_Bucket    ModerateModerateModerateModerateModerateModera...\n",
       "dtype: object"
      ]
     },
     "execution_count": 17,
     "metadata": {},
     "output_type": "execute_result"
    }
   ],
   "source": [
    "m1.sum()"
   ]
  },
  {
   "cell_type": "code",
   "execution_count": 18,
   "id": "18019e74",
   "metadata": {
    "execution": {
     "iopub.execute_input": "2023-07-27T10:48:13.015737Z",
     "iopub.status.busy": "2023-07-27T10:48:13.015323Z",
     "iopub.status.idle": "2023-07-27T10:48:13.022588Z",
     "shell.execute_reply": "2023-07-27T10:48:13.021629Z"
    },
    "papermill": {
     "duration": 0.023348,
     "end_time": "2023-07-27T10:48:13.024717",
     "exception": false,
     "start_time": "2023-07-27T10:48:13.001369",
     "status": "completed"
    },
    "tags": []
   },
   "outputs": [
    {
     "data": {
      "text/plain": [
       "array(['Amaravati', 'Amritsar', 'Chandigarh', 'Delhi', 'Gurugram',\n",
       "       'Hyderabad', 'Kolkata', 'Patna', 'Visakhapatnam'], dtype=object)"
      ]
     },
     "execution_count": 18,
     "metadata": {},
     "output_type": "execute_result"
    }
   ],
   "source": [
    "m1['City'].unique()"
   ]
  },
  {
   "cell_type": "code",
   "execution_count": 19,
   "id": "d1d36f45",
   "metadata": {
    "execution": {
     "iopub.execute_input": "2023-07-27T10:48:13.050431Z",
     "iopub.status.busy": "2023-07-27T10:48:13.050059Z",
     "iopub.status.idle": "2023-07-27T10:48:19.884479Z",
     "shell.execute_reply": "2023-07-27T10:48:19.883583Z"
    },
    "papermill": {
     "duration": 6.850164,
     "end_time": "2023-07-27T10:48:19.886914",
     "exception": false,
     "start_time": "2023-07-27T10:48:13.036750",
     "status": "completed"
    },
    "tags": []
   },
   "outputs": [
    {
     "data": {
      "image/png": "[encoded data removed]",
      "text/plain": [
       "<Figure size 800x500 with 1 Axes>"
      ]
     },
     "metadata": {},
     "output_type": "display_data"
    }
   ],
   "source": [
    "plt.figure(figsize=(8,5))\n",
    "plt.plot(m1['City'],m1['AQI_Bucket'])\n",
    "plt.xticks(m1.City[::5])\n",
    "#plt.xticks(m1.AQI_Bucket[::5])\n",
    "#print(d1.City[::5])\n",
    "plt.plot(m1['City'],m1['CO'])\n",
    "plt.legend()\n",
    "plt.show()"
   ]
  },
  {
   "cell_type": "code",
   "execution_count": 20,
   "id": "a9ea705b",
   "metadata": {
    "execution": {
     "iopub.execute_input": "2023-07-27T10:48:19.914704Z",
     "iopub.status.busy": "2023-07-27T10:48:19.914089Z",
     "iopub.status.idle": "2023-07-27T10:48:19.922424Z",
     "shell.execute_reply": "2023-07-27T10:48:19.921424Z"
    },
    "papermill": {
     "duration": 0.025062,
     "end_time": "2023-07-27T10:48:19.924894",
     "exception": false,
     "start_time": "2023-07-27T10:48:19.899832",
     "status": "completed"
    },
    "tags": []
   },
   "outputs": [],
   "source": [
    "s1 =m1['City'].value_counts()"
   ]
  },
  {
   "cell_type": "code",
   "execution_count": 21,
   "id": "9fff701e",
   "metadata": {
    "execution": {
     "iopub.execute_input": "2023-07-27T10:48:19.952632Z",
     "iopub.status.busy": "2023-07-27T10:48:19.950849Z",
     "iopub.status.idle": "2023-07-27T10:48:19.959184Z",
     "shell.execute_reply": "2023-07-27T10:48:19.958322Z"
    },
    "papermill": {
     "duration": 0.023904,
     "end_time": "2023-07-27T10:48:19.961340",
     "exception": false,
     "start_time": "2023-07-27T10:48:19.937436",
     "status": "completed"
    },
    "tags": []
   },
   "outputs": [
    {
     "data": {
      "text/plain": [
       "Hyderabad        1618\n",
       "Delhi            1224\n",
       "Visakhapatnam    1131\n",
       "Amaravati         646\n",
       "Amritsar          636\n",
       "Kolkata           394\n",
       "Chandigarh        277\n",
       "Patna             191\n",
       "Gurugram          119\n",
       "Name: City, dtype: int64"
      ]
     },
     "execution_count": 21,
     "metadata": {},
     "output_type": "execute_result"
    }
   ],
   "source": [
    "s1"
   ]
  },
  {
   "cell_type": "code",
   "execution_count": 22,
   "id": "9d46ab23",
   "metadata": {
    "execution": {
     "iopub.execute_input": "2023-07-27T10:48:19.988663Z",
     "iopub.status.busy": "2023-07-27T10:48:19.987952Z",
     "iopub.status.idle": "2023-07-27T10:48:39.720452Z",
     "shell.execute_reply": "2023-07-27T10:48:39.719119Z"
    },
    "papermill": {
     "duration": 19.749077,
     "end_time": "2023-07-27T10:48:39.722833",
     "exception": false,
     "start_time": "2023-07-27T10:48:19.973756",
     "status": "completed"
    },
    "tags": []
   },
   "outputs": [
    {
     "data": {
      "image/png": "[encoded data removed]",
      "text/plain": [
       "<Figure size 800x500 with 1 Axes>"
      ]
     },
     "metadata": {},
     "output_type": "display_data"
    }
   ],
   "source": [
    "plt.figure(figsize=(8,5))\n",
    "plt.bar(m1['City'],m1['PM2.5'])\n",
    "plt.xticks(m1.City[::5])\n",
    "#plt.xticks(m1.AQI_Bucket[::5])\n",
    "#print(d1.City[::5])\n",
    "#plt.plot(m1['City'],m1['CO'])\n",
    "plt.legend()\n",
    "plt.show()"
   ]
  },
  {
   "cell_type": "code",
   "execution_count": 23,
   "id": "662c3f24",
   "metadata": {
    "execution": {
     "iopub.execute_input": "2023-07-27T10:48:39.750960Z",
     "iopub.status.busy": "2023-07-27T10:48:39.750573Z",
     "iopub.status.idle": "2023-07-27T10:48:46.818352Z",
     "shell.execute_reply": "2023-07-27T10:48:46.817357Z"
    },
    "papermill": {
     "duration": 7.084701,
     "end_time": "2023-07-27T10:48:46.820747",
     "exception": false,
     "start_time": "2023-07-27T10:48:39.736046",
     "status": "completed"
    },
    "tags": []
   },
   "outputs": [
    {
     "data": {
      "image/png": "[encoded data removed]",
      "text/plain": [
       "<Figure size 800x500 with 1 Axes>"
      ]
     },
     "metadata": {},
     "output_type": "display_data"
    }
   ],
   "source": [
    "plt.figure(figsize=(8,5))\n",
    "plt.scatter(m1['City'],m1['NOx'])\n",
    "#plt.bar(m1['City'],m1['NH3'])\n",
    "plt.xticks(m1.City[::5])\n",
    "#plt.xticks(m1.AQI_Bucket[::5])\n",
    "#print(d1.City[::5])\n",
    "#plt.plot(m1['City'],m1['CO'])\n",
    "plt.legend()\n",
    "plt.show()"
   ]
  }
 ],
 "metadata": {
  "kernelspec": {
   "display_name": "Python 3",
   "language": "python",
   "name": "python3"
  },
  "language_info": {
   "codemirror_mode": {
    "name": "ipython",
    "version": 3
   },
   "file_extension": ".py",
   "mimetype": "text/x-python",
   "name": "python",
   "nbconvert_exporter": "python",
   "pygments_lexer": "ipython3",
   "version": "3.10.12"
  },
  "papermill": {
   "default_parameters": {},
   "duration": 47.501472,
   "end_time": "2023-07-27T10:48:47.756322",
   "environment_variables": {},
   "exception": null,
   "input_path": "__notebook__.ipynb",
   "output_path": "__notebook__.ipynb",
   "parameters": {},
   "start_time": "2023-07-27T10:48:00.254850",
   "version": "2.4.0"
  }
 },
 "nbformat": 4,
 "nbformat_minor": 5
}
